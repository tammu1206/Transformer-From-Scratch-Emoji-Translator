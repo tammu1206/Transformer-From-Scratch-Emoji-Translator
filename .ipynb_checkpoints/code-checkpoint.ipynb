{
 "cells": [
  {
   "cell_type": "code",
   "execution_count": 1,
   "id": "c278622e-fe57-41a9-b157-a3d7c75901d9",
   "metadata": {},
   "outputs": [],
   "source": [
    "import torch\n",
    "import torch.nn as nn\n",
    "import torch.nn.functional as F\n",
    "import math"
   ]
  },
  {
   "cell_type": "code",
   "execution_count": 2,
   "id": "9c82679b-cda3-4917-9720-aacf57f0dfe5",
   "metadata": {},
   "outputs": [],
   "source": [
    "class ScaledDotProductAttention(nn.Module):\n",
    "    def __init__(self, dk):\n",
    "        super().__init__()\n",
    "        self.dk = dk\n",
    "\n",
    "    def forward(self, Q, K, V, mask=None):\n",
    "        scores = torch.matmul(Q, K.transpose(-2, -1)) / math.sqrt(self.dk)\n",
    "        if mask is not None:\n",
    "            scores = scores.masked_fill(mask == 0, float('-inf'))\n",
    "        attn = F.softmax(scores, dim=-1)\n",
    "        output = torch.matmul(attn, V)\n",
    "        return output, attn"
   ]
  },
  {
   "cell_type": "code",
   "execution_count": 3,
   "id": "3b0eee69-0534-458c-8568-428268c111c8",
   "metadata": {},
   "outputs": [],
   "source": [
    "class MultiHeadAttention(nn.Module):\n",
    "    def __init__(self, d_model, num_heads):\n",
    "        super().__init__()\n",
    "        assert d_model % num_heads == 0\n",
    "\n",
    "        self.dk = d_model // num_heads\n",
    "        self.num_heads = num_heads\n",
    "\n",
    "        self.W_q = nn.Linear(d_model, d_model)\n",
    "        self.W_k = nn.Linear(d_model, d_model)\n",
    "        self.W_v = nn.Linear(d_model, d_model)\n",
    "        self.W_o = nn.Linear(d_model, d_model)\n",
    "\n",
    "        self.attn = ScaledDotProductAttention(self.dk)\n",
    "\n",
    "    def forward(self, Q, K, V, mask=None):\n",
    "        B, tgt_len, _ = Q.size()\n",
    "        B, src_len, _ = K.size()\n",
    "\n",
    "        Q = self.W_q(Q).view(B, tgt_len, self.num_heads, self.dk).transpose(1, 2)\n",
    "        K = self.W_k(K).view(B, src_len, self.num_heads, self.dk).transpose(1, 2)\n",
    "        V = self.W_v(V).view(B, src_len, self.num_heads, self.dk).transpose(1, 2)\n",
    "\n",
    "\n",
    "        output, attn = self.attn(Q, K, V, mask)\n",
    "\n",
    "        output = output.transpose(1, 2).contiguous().view(B, tgt_len, self.num_heads * self.dk)\n",
    "        return self.W_o(output)"
   ]
  },
  {
   "cell_type": "code",
   "execution_count": 4,
   "id": "5a737f6e-b2d5-4c73-a660-58beba6f6af5",
   "metadata": {},
   "outputs": [],
   "source": [
    "class PositionalEncoding(nn.Module):\n",
    "    def __init__(self, d_model, max_len=5000):\n",
    "        super().__init__()\n",
    "\n",
    "        pe = torch.zeros(max_len, d_model)\n",
    "        position = torch.arange(0, max_len, dtype=torch.float).unsqueeze(1)\n",
    "        div_term = torch.exp(torch.arange(0, d_model, 2).float() * (-math.log(10000.0) / d_model))\n",
    "\n",
    "        pe[:, 0::2] = torch.sin(position * div_term)  # even indices\n",
    "        pe[:, 1::2] = torch.cos(position * div_term)  # odd indices\n",
    "        pe = pe.unsqueeze(0)  # [1, max_len, d_model]\n",
    "\n",
    "        self.register_buffer('pe', pe)\n",
    "\n",
    "    def forward(self, x):\n",
    "        x = x + self.pe[:, :x.size(1), :].to(x.device)\n",
    "        return x"
   ]
  },
  {
   "cell_type": "code",
   "execution_count": 5,
   "id": "aedb9313-8d5f-41d2-a3b4-e20dabf151d6",
   "metadata": {},
   "outputs": [],
   "source": [
    "class FeedForward(nn.Module):\n",
    "    def __init__(self, d_model, d_ff):\n",
    "        super().__init__()\n",
    "        self.linear1 = nn.Linear(d_model, d_ff)\n",
    "        self.linear2 = nn.Linear(d_ff, d_model)\n",
    "\n",
    "    def forward(self, x):\n",
    "        return self.linear2(F.relu(self.linear1(x)))"
   ]
  },
  {
   "cell_type": "code",
   "execution_count": 6,
   "id": "9bbdcd2b-efbb-4dce-8bbc-9bf5b0f5b8ca",
   "metadata": {},
   "outputs": [],
   "source": [
    "class EncoderLayer(nn.Module):\n",
    "    def __init__(self, d_model, num_heads, d_ff, dropout=0.1):\n",
    "        super().__init__()\n",
    "        self.attn = MultiHeadAttention(d_model, num_heads)\n",
    "        self.ff = FeedForward(d_model, d_ff)\n",
    "        self.norm1 = nn.LayerNorm(d_model)\n",
    "        self.norm2 = nn.LayerNorm(d_model)\n",
    "        self.dropout = nn.Dropout(dropout)\n",
    "\n",
    "    def forward(self, x, mask=None):\n",
    "        attn_out = self.attn(x, x, x, mask)\n",
    "        x = self.norm1(x + self.dropout(attn_out))\n",
    "        ff_out = self.ff(x)\n",
    "        x = self.norm2(x + self.dropout(ff_out))\n",
    "        return x"
   ]
  },
  {
   "cell_type": "code",
   "execution_count": 7,
   "id": "25693568-e822-413f-9433-1b6466841a45",
   "metadata": {},
   "outputs": [],
   "source": [
    "class Encoder(nn.Module):\n",
    "    def __init__(self, vocab_size, d_model, N, num_heads, d_ff, max_len=512, dropout=0.1):\n",
    "        super().__init__()\n",
    "        self.embed = nn.Embedding(vocab_size, d_model)\n",
    "        self.pos_enc = PositionalEncoding(d_model, max_len)\n",
    "        self.layers = nn.ModuleList([\n",
    "            EncoderLayer(d_model, num_heads, d_ff, dropout) for _ in range(N)\n",
    "        ])\n",
    "        self.dropout = nn.Dropout(dropout)\n",
    "\n",
    "    def forward(self, src, mask=None):\n",
    "        x = self.embed(src)\n",
    "        x = self.pos_enc(x)\n",
    "        x = self.dropout(x)\n",
    "\n",
    "        for layer in self.layers:\n",
    "            x = layer(x, mask)\n",
    "        return x"
   ]
  },
  {
   "cell_type": "code",
   "execution_count": 8,
   "id": "ea241e36-a903-4bae-87d7-75f639a17b9f",
   "metadata": {},
   "outputs": [],
   "source": [
    "class DecoderLayer(nn.Module):\n",
    "    def __init__(self, d_model, num_heads, d_ff, dropout=0.1):\n",
    "        super().__init__()\n",
    "        self.self_attn = MultiHeadAttention(d_model, num_heads)\n",
    "        self.enc_attn = MultiHeadAttention(d_model, num_heads)\n",
    "        self.ff = FeedForward(d_model, d_ff)\n",
    "\n",
    "        self.norm1 = nn.LayerNorm(d_model)\n",
    "        self.norm2 = nn.LayerNorm(d_model)\n",
    "        self.norm3 = nn.LayerNorm(d_model)\n",
    "        self.dropout = nn.Dropout(dropout)\n",
    "\n",
    "    def forward(self, x, enc_out, tgt_mask=None, src_mask=None):\n",
    "        # Masked self-attn\n",
    "        _x = x\n",
    "        x = self.self_attn(x, x, x, tgt_mask)\n",
    "        x = self.norm1(_x + self.dropout(x))\n",
    "\n",
    "        # Encoder-Decoder attn\n",
    "        _x = x\n",
    "        x = self.enc_attn(x, enc_out, enc_out, src_mask)\n",
    "        x = self.norm2(_x + self.dropout(x))\n",
    "\n",
    "        # FeedForward\n",
    "        _x = x\n",
    "        x = self.ff(x)\n",
    "        x = self.norm3(_x + self.dropout(x))\n",
    "        return x"
   ]
  },
  {
   "cell_type": "code",
   "execution_count": 9,
   "id": "f4c8e0d0-575c-4e94-b754-85fd0fa0bfbe",
   "metadata": {},
   "outputs": [],
   "source": [
    "class Decoder(nn.Module):\n",
    "    def __init__(self, vocab_size, d_model, N, num_heads, d_ff, max_len=512, dropout=0.1):\n",
    "        super().__init__()\n",
    "        self.embed = nn.Embedding(vocab_size, d_model)\n",
    "        self.pos_enc = PositionalEncoding(d_model, max_len)\n",
    "        self.layers = nn.ModuleList([\n",
    "            DecoderLayer(d_model, num_heads, d_ff, dropout) for _ in range(N)\n",
    "        ])\n",
    "        self.dropout = nn.Dropout(dropout)\n",
    "\n",
    "    def forward(self, tgt, enc_out, tgt_mask=None, src_mask=None):\n",
    "        x = self.embed(tgt)\n",
    "        x = self.pos_enc(x)\n",
    "        x = self.dropout(x)\n",
    "\n",
    "        for layer in self.layers:\n",
    "            x = layer(x, enc_out, tgt_mask, src_mask)\n",
    "        return x"
   ]
  },
  {
   "cell_type": "code",
   "execution_count": 10,
   "id": "69f42c7d-1f8f-470b-a33d-bf340f0933a2",
   "metadata": {},
   "outputs": [],
   "source": [
    "def generate_subsequent_mask(size):\n",
    "    mask = torch.tril(torch.ones(size, size)).unsqueeze(0).unsqueeze(0)\n",
    "    return mask  # shape: [1, 1, size, size]"
   ]
  },
  {
   "cell_type": "code",
   "execution_count": 11,
   "id": "17111e18-9cd2-4e8b-b93a-59ee6cb7e14a",
   "metadata": {},
   "outputs": [],
   "source": [
    "class Transformer(nn.Module):\n",
    "    def __init__(self, src_vocab_size, tgt_vocab_size, d_model=512, N=6,\n",
    "                 num_heads=8, d_ff=2048, max_len=512, dropout=0.1):\n",
    "        super().__init__()\n",
    "\n",
    "        self.encoder = Encoder(src_vocab_size, d_model, N, num_heads, d_ff, max_len, dropout)\n",
    "        self.decoder = Decoder(tgt_vocab_size, d_model, N, num_heads, d_ff, max_len, dropout)\n",
    "        self.out_proj = nn.Linear(d_model, tgt_vocab_size)\n",
    "\n",
    "    def forward(self, src, tgt, src_mask=None, tgt_mask=None):\n",
    "        enc_out = self.encoder(src, src_mask)\n",
    "        dec_out = self.decoder(tgt, enc_out, tgt_mask, src_mask)\n",
    "        logits = self.out_proj(dec_out)\n",
    "        return logits"
   ]
  },
  {
   "cell_type": "code",
   "execution_count": 12,
   "id": "01fe3d69-ff53-45ee-80d4-14a8c78f4107",
   "metadata": {},
   "outputs": [
    {
     "name": "stdout",
     "output_type": "stream",
     "text": [
      "Logits shape: torch.Size([2, 9, 100])\n"
     ]
    }
   ],
   "source": [
    "# Sample dummy input\n",
    "src = torch.randint(0, 100, (2, 10))  # batch_size=2, seq_len=10\n",
    "tgt = torch.randint(0, 100, (2, 9))   # shifted target for training\n",
    "\n",
    "model = Transformer(src_vocab_size=100, tgt_vocab_size=100)\n",
    "\n",
    "# Masks\n",
    "src_mask = None\n",
    "tgt_mask = generate_subsequent_mask(tgt.size(1)).to(tgt.device)\n",
    "\n",
    "logits = model(src, tgt, src_mask=src_mask, tgt_mask=tgt_mask)\n",
    "print(\"Logits shape:\", logits.shape)  # Expect: [batch, tgt_seq_len, vocab_size]"
   ]
  },
  {
   "cell_type": "code",
   "execution_count": 13,
   "id": "3c10e427-f9bc-4507-95b4-a72eee9bd3eb",
   "metadata": {},
   "outputs": [],
   "source": [
    "def greedy_decode(model, src, src_mask, max_len, start_symbol, device):\n",
    "    src = src.to(device)\n",
    "    memory = model.encoder(src, src_mask)\n",
    "\n",
    "    ys = torch.ones(1, 1).fill_(start_symbol).type(torch.long).to(device)\n",
    "\n",
    "    for i in range(max_len - 1):\n",
    "        tgt_mask = generate_subsequent_mask(ys.size(1)).to(device)\n",
    "        out = model.decoder(ys, memory, tgt_mask, src_mask)\n",
    "        prob = model.out_proj(out[:, -1])\n",
    "        next_word = torch.argmax(prob, dim=-1).unsqueeze(0)\n",
    "        ys = torch.cat([ys, next_word], dim=1)\n",
    "        if next_word.item() == end_token:\n",
    "            break\n",
    "\n",
    "    return ys"
   ]
  },
  {
   "cell_type": "code",
   "execution_count": 14,
   "id": "d2d1840e-0894-4a70-bdf2-2c20c55064d3",
   "metadata": {},
   "outputs": [
    {
     "name": "stdout",
     "output_type": "stream",
     "text": [
      "Generated: tensor([[ 1, 35, 24, 78,  7, 78, 65, 78,  7, 78,  7, 78, 10, 22,  7, 78, 65, 78,\n",
      "         41, 97]])\n"
     ]
    }
   ],
   "source": [
    "src_sentence = torch.tensor([[1, 5, 6, 7, 8, 9, 0, 0]])  # padded\n",
    "src_mask = None\n",
    "start_token = 1\n",
    "end_token = 2\n",
    "max_len = 20\n",
    "\n",
    "output = greedy_decode(model, src_sentence, src_mask, max_len, start_token, device='cpu')\n",
    "print(\"Generated:\", output)"
   ]
  },
  {
   "cell_type": "code",
   "execution_count": 30,
   "id": "dbc9316f-a319-497a-9cd5-8f7458227baa",
   "metadata": {},
   "outputs": [],
   "source": [
    "def train_one_epoch(model, dataloader, optimizer, criterion, device):\n",
    "    model.train()\n",
    "    total_loss = 0\n",
    "\n",
    "    for src, tgt in dataloader:\n",
    "        src = src.to(device)\n",
    "        tgt_input = tgt[:, :-1].to(device)\n",
    "        tgt_output = tgt[:, 1:].to(device)\n",
    "\n",
    "        tgt_mask = generate_subsequent_mask(tgt_input.size(1)).to(device)\n",
    "\n",
    "        optimizer.zero_grad()\n",
    "        logits = model(src, tgt_input, tgt_mask=tgt_mask)\n",
    "        loss = criterion(logits.view(-1, logits.size(-1)), tgt_output.reshape(-1))\n",
    "        loss.backward()\n",
    "        optimizer.step()\n",
    "\n",
    "        total_loss += loss.item()\n",
    "\n",
    "    return total_loss / len(dataloader)"
   ]
  },
  {
   "cell_type": "code",
   "execution_count": 32,
   "id": "0b9d62c4-2258-44d5-8961-7214f8d3b3f6",
   "metadata": {},
   "outputs": [],
   "source": [
    "index_to_word = {\n",
    "    1: \"<sos>\",\n",
    "    2: \"<eos>\",\n",
    "    7: \"I\",\n",
    "    10: \"am\",\n",
    "    22: \"hungry\",\n",
    "    24: \"you\",\n",
    "    35: \"Hello\",\n",
    "    41: \"now\",\n",
    "    65: \"world\",\n",
    "    78: \",\",\n",
    "    97: \".\"\n",
    "}"
   ]
  },
  {
   "cell_type": "code",
   "execution_count": 34,
   "id": "fba02d62-ea6b-45e8-b4a0-07bc8f706516",
   "metadata": {},
   "outputs": [
    {
     "name": "stdout",
     "output_type": "stream",
     "text": [
      "<sos> Hello you , I , world , I , I , am hungry I , world , now .\n"
     ]
    }
   ],
   "source": [
    "decoded = [index_to_word[token.item()] for token in output[0]]\n",
    "print(\" \".join(decoded))"
   ]
  },
  {
   "cell_type": "code",
   "execution_count": 36,
   "id": "9bbf6323-2fc2-4061-9108-41aff770ea35",
   "metadata": {},
   "outputs": [],
   "source": [
    "toy_data = [\n",
    "    (\"i am happy\", \"😊\"),\n",
    "    (\"i am sad\", \"😢\"),\n",
    "    (\"you are amazing\", \"💯\"),\n",
    "    (\"i love pizza\", \"🍕\"),\n",
    "    (\"i am angry\", \"😡\"),\n",
    "    (\"good night\", \"🌙\"),\n",
    "]"
   ]
  },
  {
   "cell_type": "code",
   "execution_count": 38,
   "id": "767cc537-cb97-48d2-985c-574f3a0a3947",
   "metadata": {},
   "outputs": [],
   "source": [
    "word2idx = {\n",
    "    \"<pad>\": 0,\n",
    "    \"<sos>\": 1,\n",
    "    \"<eos>\": 2,\n",
    "    \"i\": 3,\n",
    "    \"am\": 4,\n",
    "    \"happy\": 5,\n",
    "    \"sad\": 6,\n",
    "    \"you\": 7,\n",
    "    \"are\": 8,\n",
    "    \"amazing\": 9,\n",
    "    \"love\": 10,\n",
    "    \"pizza\": 11,\n",
    "    \"angry\": 12,\n",
    "    \"good\": 13,\n",
    "    \"night\": 14,\n",
    "    \"😊\": 15,\n",
    "    \"😢\": 16,\n",
    "    \"💯\": 17,\n",
    "    \"🍕\": 18,\n",
    "    \"😡\": 19,\n",
    "    \"🌙\": 20\n",
    "}\n",
    "\n",
    "idx2word = {i: w for w, i in word2idx.items()}\n",
    "vocab_size = len(word2idx)"
   ]
  },
  {
   "cell_type": "code",
   "execution_count": 40,
   "id": "e6f050fa-9f5e-4ffe-9789-86a68b0b8ba4",
   "metadata": {},
   "outputs": [],
   "source": [
    "def encode(sentence):\n",
    "    return [word2idx[\"<sos>\"]] + [word2idx[word] for word in sentence.split()] + [word2idx[\"<eos>\"]]\n",
    "\n",
    "dataset = [(encode(src), encode(tgt)) for src, tgt in toy_data]"
   ]
  },
  {
   "cell_type": "code",
   "execution_count": 42,
   "id": "3e386666-292c-462a-9965-67bc1ef2010a",
   "metadata": {},
   "outputs": [],
   "source": [
    "def pad_sequence(seq, max_len):\n",
    "    return seq + [word2idx[\"<pad>\"]] * (max_len - len(seq))\n",
    "\n",
    "def collate_batch(batch):\n",
    "    src_seqs, tgt_seqs = zip(*batch)\n",
    "    max_src = max(len(s) for s in src_seqs)\n",
    "    max_tgt = max(len(t) for t in tgt_seqs)\n",
    "\n",
    "    src_batch = torch.tensor([pad_sequence(s, max_src) for s in src_seqs])\n",
    "    tgt_batch = torch.tensor([pad_sequence(t, max_tgt) for t in tgt_seqs])\n",
    "    return src_batch, tgt_batch"
   ]
  },
  {
   "cell_type": "code",
   "execution_count": 44,
   "id": "c70be7be-af4b-4d90-8070-4b42850671c3",
   "metadata": {},
   "outputs": [
    {
     "name": "stdout",
     "output_type": "stream",
     "text": [
      "Epoch 1, Loss: 8.6247\n",
      "Epoch 2, Loss: 4.9630\n",
      "Epoch 3, Loss: 3.8968\n",
      "Epoch 4, Loss: 3.3496\n",
      "Epoch 5, Loss: 2.6970\n",
      "Epoch 6, Loss: 2.0072\n",
      "Epoch 7, Loss: 1.1908\n",
      "Epoch 8, Loss: 0.8020\n",
      "Epoch 9, Loss: 0.3298\n",
      "Epoch 10, Loss: 0.1751\n",
      "Epoch 11, Loss: 0.0795\n",
      "Epoch 12, Loss: 0.0418\n",
      "Epoch 13, Loss: 0.0245\n",
      "Epoch 14, Loss: 0.0210\n",
      "Epoch 15, Loss: 0.0163\n",
      "Epoch 16, Loss: 0.0158\n",
      "Epoch 17, Loss: 0.0121\n",
      "Epoch 18, Loss: 0.0097\n",
      "Epoch 19, Loss: 0.0094\n",
      "Epoch 20, Loss: 0.0089\n"
     ]
    }
   ],
   "source": [
    "from torch.utils.data import DataLoader\n",
    "import torch.nn as nn\n",
    "import torch.optim as optim\n",
    "\n",
    "dataloader = DataLoader(dataset, batch_size=2, shuffle=True, collate_fn=collate_batch)\n",
    "model = Transformer(src_vocab_size=vocab_size, tgt_vocab_size=vocab_size)\n",
    "optimizer = optim.Adam(model.parameters(), lr=1e-4)\n",
    "criterion = nn.CrossEntropyLoss(ignore_index=word2idx[\"<pad>\"])\n",
    "\n",
    "for epoch in range(20):\n",
    "    model.train()\n",
    "    total_loss = 0\n",
    "\n",
    "    for src, tgt in dataloader:\n",
    "        tgt_input = tgt[:, :-1]\n",
    "        tgt_output = tgt[:, 1:]\n",
    "        tgt_mask = generate_subsequent_mask(tgt_input.size(1))\n",
    "\n",
    "        logits = model(src, tgt_input, tgt_mask=tgt_mask)\n",
    "        loss = criterion(logits.view(-1, logits.size(-1)), tgt_output.reshape(-1))\n",
    "\n",
    "        optimizer.zero_grad()\n",
    "        loss.backward()\n",
    "        optimizer.step()\n",
    "        total_loss += loss.item()\n",
    "\n",
    "    print(f\"Epoch {epoch+1}, Loss: {total_loss:.4f}\")"
   ]
  },
  {
   "cell_type": "code",
   "execution_count": 46,
   "id": "5b133022-d819-450c-9cde-794287b091b2",
   "metadata": {},
   "outputs": [],
   "source": [
    "def beam_search(model, src, src_mask, max_len, start_symbol, k=3):\n",
    "    src = src.to(model.out_proj.weight.device)\n",
    "    memory = model.encoder(src, src_mask)\n",
    "    beams = [(torch.tensor([[start_symbol]]), 0)]\n",
    "\n",
    "    for _ in range(max_len):\n",
    "        new_beams = []\n",
    "        for ys, score in beams:\n",
    "            tgt_mask = generate_subsequent_mask(ys.size(1)).to(src.device)\n",
    "            out = model.decoder(ys, memory, tgt_mask, src_mask)\n",
    "            logits = model.out_proj(out[:, -1])\n",
    "            probs = torch.log_softmax(logits, dim=-1)\n",
    "\n",
    "            topk_probs, topk_indices = probs.topk(k)\n",
    "            for i in range(k):\n",
    "                new_ys = torch.cat([ys, topk_indices[:, i].unsqueeze(0)], dim=1)\n",
    "                new_score = score + topk_probs[0, i].item()\n",
    "                new_beams.append((new_ys, new_score))\n",
    "\n",
    "        beams = sorted(new_beams, key=lambda x: x[1], reverse=True)[:k]\n",
    "\n",
    "    return beams[0][0]\n"
   ]
  },
  {
   "cell_type": "code",
   "execution_count": 48,
   "id": "f74d7287-d14d-4d5f-879b-056d9a64c6c7",
   "metadata": {},
   "outputs": [],
   "source": [
    "import torch.nn.functional as F\n",
    "\n",
    "def top_k_sampling(model, src, src_mask, max_len, start_symbol, k=5):\n",
    "    src = src.to(model.out_proj.weight.device)\n",
    "    memory = model.encoder(src, src_mask)\n",
    "    ys = torch.ones(1, 1).fill_(start_symbol).long().to(src.device)\n",
    "\n",
    "    for _ in range(max_len - 1):\n",
    "        tgt_mask = generate_subsequent_mask(ys.size(1)).to(src.device)\n",
    "        out = model.decoder(ys, memory, tgt_mask, src_mask)\n",
    "        logits = model.out_proj(out[:, -1])\n",
    "        probs = F.softmax(logits, dim=-1)\n",
    "        topk_probs, topk_indices = probs.topk(k)\n",
    "        chosen = torch.multinomial(topk_probs, 1)\n",
    "        next_word = topk_indices.gather(-1, chosen)\n",
    "        ys = torch.cat([ys, next_word], dim=1)\n",
    "\n",
    "    return ys\n"
   ]
  },
  {
   "cell_type": "code",
   "execution_count": null,
   "id": "d4410c17-c3ee-4e29-87aa-153de05bf97f",
   "metadata": {},
   "outputs": [],
   "source": []
  }
 ],
 "metadata": {
  "kernelspec": {
   "display_name": "Python [conda env:base] *",
   "language": "python",
   "name": "conda-base-py"
  },
  "language_info": {
   "codemirror_mode": {
    "name": "ipython",
    "version": 3
   },
   "file_extension": ".py",
   "mimetype": "text/x-python",
   "name": "python",
   "nbconvert_exporter": "python",
   "pygments_lexer": "ipython3",
   "version": "3.12.7"
  }
 },
 "nbformat": 4,
 "nbformat_minor": 5
}
